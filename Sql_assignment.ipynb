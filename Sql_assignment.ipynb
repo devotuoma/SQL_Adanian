{
  "nbformat": 4,
  "nbformat_minor": 0,
  "metadata": {
    "colab": {
      "provenance": []
    },
    "kernelspec": {
      "name": "python3",
      "display_name": "Python 3"
    },
    "language_info": {
      "name": "python"
    }
  },
  "cells": [
    {
      "cell_type": "markdown",
      "source": [
        "Step 1: Set Up SQLite and Connect"
      ],
      "metadata": {
        "id": "ckIE9YRewX4k"
      }
    },
    {
      "cell_type": "code",
      "source": [
        "import sqlite3\n",
        "from datetime import date\n",
        "import pandas as pd\n",
        "\n",
        "# Create/Connect to the database\n",
        "conn = sqlite3.connect('edu_institute.db')\n",
        "cursor = conn.cursor()"
      ],
      "metadata": {
        "id": "1wcGV0fWtOSb"
      },
      "execution_count": 2,
      "outputs": []
    },
    {
      "cell_type": "markdown",
      "source": [
        "Step 2: Create the Database and Table"
      ],
      "metadata": {
        "id": "q-9gNjMDwewo"
      }
    },
    {
      "cell_type": "code",
      "source": [
        "# 1.2 Create table students\n",
        "cursor.execute('''\n",
        "CREATE TABLE IF NOT EXISTS students (\n",
        "    student_id INTEGER PRIMARY KEY,\n",
        "    name VARCHAR(50),\n",
        "    age INTEGER,\n",
        "    gender CHAR(1),\n",
        "    enrollment_date DATE,\n",
        "    program VARCHAR(50)\n",
        ");\n",
        "''')\n",
        "conn.commit()"
      ],
      "metadata": {
        "id": "tMHJdqk2uGPM"
      },
      "execution_count": 3,
      "outputs": []
    },
    {
      "cell_type": "markdown",
      "source": [
        "Step 3: Insert Records"
      ],
      "metadata": {
        "id": "6Ad_if6iwk6-"
      }
    },
    {
      "cell_type": "code",
      "source": [
        "# 2.1 Insert 5 students, at least one in Data Science\n",
        "cursor.executemany('''\n",
        "INSERT INTO students (student_id, name, age, gender, enrollment_date, program)\n",
        "VALUES (?, ?, ?, ?, ?, ?)\n",
        "''', [\n",
        "    (1, 'Alice Johnson', 21, 'F', '2023-08-21', 'Data Science'),\n",
        "    (2, 'Brian O\\'Neil', 23, 'M', '2023-01-15', 'Computer Science'),\n",
        "    (3, 'Chloe Zhang', 20, 'F', '2024-02-20', 'Physics'),\n",
        "    (4, 'David Kim', 19, 'M', '2024-03-11', 'Mathematics'),\n",
        "    (5, 'Ella Martinez', 22, 'F', '2022-09-10', 'Chemistry')\n",
        "])\n",
        "conn.commit()"
      ],
      "metadata": {
        "id": "exyhiIPzuQKJ"
      },
      "execution_count": 4,
      "outputs": []
    },
    {
      "cell_type": "markdown",
      "source": [
        "Step 4: Basic Queries\n",
        "\n",
        "3.1 Select all columns for students in Data Science"
      ],
      "metadata": {
        "id": "gk6f_3YYwpc3"
      }
    },
    {
      "cell_type": "code",
      "source": [
        "df = pd.read_sql_query(\"SELECT * FROM students WHERE program = 'Data Science';\", conn)\n",
        "print(df)"
      ],
      "metadata": {
        "colab": {
          "base_uri": "https://localhost:8080/"
        },
        "id": "GYGTGbd5uVNk",
        "outputId": "b0db1df4-0495-4b77-c43b-1e039f777ffe"
      },
      "execution_count": 5,
      "outputs": [
        {
          "output_type": "stream",
          "name": "stdout",
          "text": [
            "   student_id           name  age gender enrollment_date       program\n",
            "0           1  Alice Johnson   21      F      2023-08-21  Data Science\n"
          ]
        }
      ]
    },
    {
      "cell_type": "markdown",
      "source": [
        "3.2 Count total number of students"
      ],
      "metadata": {
        "id": "U8fhkLIJwxXW"
      }
    },
    {
      "cell_type": "code",
      "source": [
        "df = pd.read_sql_query(\"SELECT COUNT(*) AS 'Total Students' FROM students;\", conn)\n",
        "print(df)"
      ],
      "metadata": {
        "colab": {
          "base_uri": "https://localhost:8080/"
        },
        "id": "yL6IeC-7uaA0",
        "outputId": "32ce3e09-c116-4b21-9392-994029da7de4"
      },
      "execution_count": 6,
      "outputs": [
        {
          "output_type": "stream",
          "name": "stdout",
          "text": [
            "   Total Students\n",
            "0               5\n"
          ]
        }
      ]
    },
    {
      "cell_type": "markdown",
      "source": [
        "Step 5: Function Usage\n",
        "\n",
        "4.1 Display current date in a column named Today's Date\n",
        "\n",
        "(SQLite syntax: use DATE('now'))"
      ],
      "metadata": {
        "id": "m6y0GfLcw3nJ"
      }
    },
    {
      "cell_type": "code",
      "source": [
        "df = pd.read_sql_query(\"SELECT DATE('now') AS 'Today''s Date';\", conn)\n",
        "print(df)"
      ],
      "metadata": {
        "colab": {
          "base_uri": "https://localhost:8080/"
        },
        "id": "jR4yehs5uedU",
        "outputId": "d3c47154-cc94-4a5d-a33c-39adc6b96e0f"
      },
      "execution_count": 7,
      "outputs": [
        {
          "output_type": "stream",
          "name": "stdout",
          "text": [
            "  Today's Date\n",
            "0   2025-06-25\n"
          ]
        }
      ]
    },
    {
      "cell_type": "markdown",
      "source": [
        "Select names (uppercase) and enrollment dates"
      ],
      "metadata": {
        "id": "dQbyI8F5w__a"
      }
    },
    {
      "cell_type": "code",
      "source": [
        "df = pd.read_sql_query(\"SELECT UPPER(name) AS name, enrollment_date FROM students;\", conn)\n",
        "print(df)"
      ],
      "metadata": {
        "colab": {
          "base_uri": "https://localhost:8080/"
        },
        "id": "GDBz678XujW-",
        "outputId": "c140035d-f140-4c57-923d-77be808d129d"
      },
      "execution_count": 8,
      "outputs": [
        {
          "output_type": "stream",
          "name": "stdout",
          "text": [
            "            name enrollment_date\n",
            "0  ALICE JOHNSON      2023-08-21\n",
            "1   BRIAN O'NEIL      2023-01-15\n",
            "2    CHLOE ZHANG      2024-02-20\n",
            "3      DAVID KIM      2024-03-11\n",
            "4  ELLA MARTINEZ      2022-09-10\n"
          ]
        }
      ]
    },
    {
      "cell_type": "markdown",
      "source": [
        "Step 6: Advanced Queries\n",
        "\n",
        "5.1 Count students in each program (descending)"
      ],
      "metadata": {
        "id": "CD93LQdjxEtP"
      }
    },
    {
      "cell_type": "code",
      "source": [
        "df = pd.read_sql_query(\n",
        "    \"SELECT program, COUNT(*) AS 'Number of Students' FROM students GROUP BY program ORDER BY COUNT(*) DESC;\", conn)\n",
        "print(df)"
      ],
      "metadata": {
        "colab": {
          "base_uri": "https://localhost:8080/"
        },
        "id": "khp1A6uNulH5",
        "outputId": "ca8e064f-9b50-4b30-db26-bc87d1090358"
      },
      "execution_count": 9,
      "outputs": [
        {
          "output_type": "stream",
          "name": "stdout",
          "text": [
            "            program  Number of Students\n",
            "0           Physics                   1\n",
            "1       Mathematics                   1\n",
            "2      Data Science                   1\n",
            "3  Computer Science                   1\n",
            "4         Chemistry                   1\n"
          ]
        }
      ]
    },
    {
      "cell_type": "markdown",
      "source": [
        "5.2 Find youngest student's name and age"
      ],
      "metadata": {
        "id": "u6IdjGFhxLBz"
      }
    },
    {
      "cell_type": "code",
      "source": [
        "df = pd.read_sql_query(\n",
        "    \"SELECT name, age FROM students WHERE age = (SELECT MIN(age) FROM students);\", conn)\n",
        "print(df)"
      ],
      "metadata": {
        "colab": {
          "base_uri": "https://localhost:8080/"
        },
        "id": "m-_Wr79jutJD",
        "outputId": "94dc238c-b5f8-40a1-a555-45fbcb1ca9f9"
      },
      "execution_count": 10,
      "outputs": [
        {
          "output_type": "stream",
          "name": "stdout",
          "text": [
            "        name  age\n",
            "0  David Kim   19\n"
          ]
        }
      ]
    }
  ]
}